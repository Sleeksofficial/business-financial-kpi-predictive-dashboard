{
 "cells": [
  {
   "cell_type": "markdown",
   "metadata": {},
   "source": [
    "# Revenue Forecasting using Prophet\n",
    "This notebook demonstrates how to use Prophet to forecast future revenue based on historical data."
   ]
  },
  {
   "cell_type": "code",
   "execution_count": null,
   "metadata": {},
   "outputs": [],
   "source": [
    "import pandas as pd\n",
    "from prophet import Prophet\n",
    "import matplotlib.pyplot as plt\n",
    "\n",
    "# Load data\n",
    "df = pd.read_csv('../data/sample_financial_data.csv')\n",
    "df = df.rename(columns={'Date': 'ds', 'Revenue': 'y'})\n",
    "\n",
    "# Initialize and fit model\n",
    "model = Prophet()\n",
    "model.fit(df)\n",
    "\n",
    "# Forecast\n",
    "future = model.make_future_dataframe(periods=12, freq='M')\n",
    "forecast = model.predict(future)\n",
    "model.plot(forecast)\n",
    "plt.title('Revenue Forecast')\n",
    "plt.show()"
   ]
  }
 ],
 "metadata": {
  "kernelspec": {
   "display_name": "Python 3",
   "language": "python",
   "name": "python3"
  },
  "language_info": {
   "name": "python"
  }
 },
 "nbformat": 4,
 "nbformat_minor": 2
}
